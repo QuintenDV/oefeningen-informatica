{
 "cells": [
  {
   "cell_type": "markdown",
   "metadata": {},
   "source": [
    "<Insert context van de oefening: We maken een pokemon battle simulator.>\n",
    "De data wordt gehaald uit de Pokemon trading card game database: https://pokemontcg.guru/  \n",
    "(Opmerking: dit is super leuk... NIET in het begin van de les deze link geven of ze zijn een uur bezig met pokemons opzoeken.)"
   ]
  },
  {
   "cell_type": "code",
   "execution_count": null,
   "metadata": {},
   "outputs": [],
   "source": [
    "# Deze package kan gebruikt worden om de pokemon database te doorzoeken\n",
    "%pip install pip install pokemontcgsdk\n"
   ]
  },
  {
   "cell_type": "code",
   "execution_count": null,
   "metadata": {},
   "outputs": [],
   "source": [
    "from IPython.display import Image, display\n",
    "\n",
    "from pokemontcgsdk import Card\n",
    "from pokemontcgsdk import Set\n"
   ]
  },
  {
   "cell_type": "code",
   "execution_count": null,
   "metadata": {},
   "outputs": [],
   "source": [
    "cards = Card.where(q='!set.name:base supertype:pokemon')\n",
    "print(\"Totaal aantal kaarten ingeladen: \", len(cards))\n",
    "\n",
    "display(Image(url=cards[0].images.small))"
   ]
  },
  {
   "cell_type": "code",
   "execution_count": null,
   "metadata": {},
   "outputs": [],
   "source": [
    "def print_overzicht():\n",
    "    for i,c in enumerate(cards):\n",
    "        print(f\"{i:03d} - {c.name}\")\n",
    "\n",
    "def zoek_kaart(naam):\n",
    "    for c in cards:\n",
    "        if c.name.lower() == naam.lower():\n",
    "            return c\n",
    "    print(f\"Geen pokemon met naam {naam} gevonden.\")\n",
    "\n",
    "assert zoek_kaart(\"zapdos\") is not None"
   ]
  },
  {
   "cell_type": "code",
   "execution_count": null,
   "metadata": {},
   "outputs": [],
   "source": [
    "class Pokemon:\n",
    "    def __init__(self, card):\n",
    "        self.name = card.name\n",
    "        self.hp = int(card.hp)\n",
    "        self.card = card\n",
    "    \n",
    "    def naam(self):\n",
    "        return self.name\n",
    "    \n",
    "    def toon_kaart(self):\n",
    "        display(Image(url=self.card.images.small))\n",
    "    \n",
    "    def is_levend(self):\n",
    "        return self.hp > 0\n",
    "\n",
    "    def kies_aanval(self):\n",
    "        for att in self.card.attacks:\n",
    "            if att.damage != \"\" and att.damage.isnumeric():\n",
    "                return att\n",
    "    \n",
    "    def voeg_schade_toe(self, dmg):\n",
    "        self.hp = max(0, self.hp-dmg)\n",
    "        \n",
    "    def val_andere_pokemon_aan(self, other_pokemon, aanval):        \n",
    "        print(f\"{self.name} uses {aanval.name} and does {aanval.damage} damage.\")\n",
    "        other_pokemon.voeg_schade_toe(int(aanval.damage))\n",
    "        \n",
    "    "
   ]
  },
  {
   "cell_type": "code",
   "execution_count": null,
   "metadata": {},
   "outputs": [],
   "source": [
    "pm1 = Pokemon(zoek_kaart(\"Zapdos\"))\n",
    "pm2 = Pokemon(zoek_kaart(\"Haunter\"))\n",
    "\n",
    "## Print uit welke pokemon tegen elkaar vechten\n",
    "print(\"pokemon1: \", pm1.naam())\n",
    "pm1.toon_kaart()\n",
    "print(\"pokemon2: \", pm2.naam())\n",
    "pm2.toon_kaart()"
   ]
  },
  {
   "cell_type": "code",
   "execution_count": null,
   "metadata": {},
   "outputs": [],
   "source": [
    "pm1_aanval = pm1.kies_aanval()\n",
    "pm1.val_andere_pokemon_aan(pm2, pm1_aanval)\n",
    "if not pm2.is_levend():\n",
    "    print(\"De winnaar is \", pm1.naam())\n",
    "\n",
    "pm2_aanval = pm2.kies_aanval()\n",
    "pm2.val_andere_pokemon_aan(pm1, pm2_aanval)\n",
    "if not pm1.is_levend():\n",
    "    print(\"De winnaar is \", pm2.naam())"
   ]
  },
  {
   "cell_type": "code",
   "execution_count": null,
   "metadata": {},
   "outputs": [],
   "source": []
  }
 ],
 "metadata": {
  "kernelspec": {
   "display_name": "venv",
   "language": "python",
   "name": "python3"
  },
  "language_info": {
   "codemirror_mode": {
    "name": "ipython",
    "version": 3
   },
   "file_extension": ".py",
   "mimetype": "text/x-python",
   "name": "python",
   "nbconvert_exporter": "python",
   "pygments_lexer": "ipython3",
   "version": "3.11.5"
  },
  "orig_nbformat": 4
 },
 "nbformat": 4,
 "nbformat_minor": 2
}
