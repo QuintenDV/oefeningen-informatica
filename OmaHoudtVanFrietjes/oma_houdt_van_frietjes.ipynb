{
 "cells": [
  {
   "cell_type": "code",
   "execution_count": 9,
   "metadata": {},
   "outputs": [
    {
     "name": "stdout",
     "output_type": "stream",
     "text": [
      "Requirement already satisfied: requests in c:\\users\\quint\\appdata\\local\\programs\\python\\python311\\lib\\site-packages (2.31.0)\n",
      "Requirement already satisfied: charset-normalizer<4,>=2 in c:\\users\\quint\\appdata\\local\\programs\\python\\python311\\lib\\site-packages (from requests) (3.3.2)\n",
      "Requirement already satisfied: idna<4,>=2.5 in c:\\users\\quint\\appdata\\local\\programs\\python\\python311\\lib\\site-packages (from requests) (3.4)\n",
      "Requirement already satisfied: urllib3<3,>=1.21.1 in c:\\users\\quint\\appdata\\local\\programs\\python\\python311\\lib\\site-packages (from requests) (2.0.7)\n",
      "Requirement already satisfied: certifi>=2017.4.17 in c:\\users\\quint\\appdata\\local\\programs\\python\\python311\\lib\\site-packages (from requests) (2023.7.22)\n",
      "Note: you may need to restart the kernel to use updated packages.\n"
     ]
    },
    {
     "name": "stderr",
     "output_type": "stream",
     "text": [
      "\n",
      "[notice] A new release of pip is available: 23.2.1 -> 23.3.1\n",
      "[notice] To update, run: python.exe -m pip install --upgrade pip\n"
     ]
    },
    {
     "name": "stdout",
     "output_type": "stream",
     "text": [
      "Requirement already satisfied: bs4 in c:\\users\\quint\\appdata\\local\\programs\\python\\python311\\lib\\site-packages (0.0.1)\n",
      "Requirement already satisfied: beautifulsoup4 in c:\\users\\quint\\appdata\\local\\programs\\python\\python311\\lib\\site-packages (from bs4) (4.12.2)\n",
      "Requirement already satisfied: soupsieve>1.2 in c:\\users\\quint\\appdata\\local\\programs\\python\\python311\\lib\\site-packages (from beautifulsoup4->bs4) (2.5)\n",
      "Note: you may need to restart the kernel to use updated packages.\n"
     ]
    },
    {
     "name": "stderr",
     "output_type": "stream",
     "text": [
      "\n",
      "[notice] A new release of pip is available: 23.2.1 -> 23.3.1\n",
      "[notice] To update, run: python.exe -m pip install --upgrade pip\n"
     ]
    }
   ],
   "source": [
    "%pip install requests\n",
    "%pip install bs4"
   ]
  },
  {
   "cell_type": "code",
   "execution_count": 34,
   "metadata": {},
   "outputs": [
    {
     "data": {
      "text/plain": [
       "['MAANDAG 6 November ; Soep, kipfilet, braadjus, schorseneren inde room, minikriel aardappel',\n",
       " 'DINSDAG 7 NOVEMBER ; Soep, braadworst, vleesjus, gebroken boontjes, gebakken aardappelen',\n",
       " 'WOENSDAG 8 NOVEMBER ; Soep, lamsstoofpotje, broccoli natuur, puree natuur',\n",
       " 'DONDERDAG 9 NOVEMBER ; Soep, rundstong in tomatensaus, witloofstronk, frietjes',\n",
       " 'VRIJDAG 10 NOVEMBER ; Soep, zalmfilet, dillesaus, knolselderpuree',\n",
       " 'MAANDAG 13 NOVEMBER ; Soep, Preischotel met gehakt',\n",
       " 'DINSDAG 14 NOVEMBER ; Soep, Napolitaanse stoofschotel met kip,4-seizoensmegeling, pommes duchesses',\n",
       " 'WOENSDAG 15 NOVEMBER ; GESLOTEN',\n",
       " 'DONDERDAG 16 NOVEMBER ; Soep, vol au vent, rauwkost, frietjes',\n",
       " 'VRIJDAG 17 NOVEMBER ; Soep, heekfilet delight, witte vissaus, pompoen/puree',\n",
       " 'MAANDAG 20 NOVEMBER ; Soep, cordon blue kalkoen, prei in de room, vleesjus, minikriel aardappeltjes',\n",
       " 'DINSDAG 21 NOVEMBER ; Soep, macaroni met kaas en hesp',\n",
       " 'WOENSDAG 22 NOVEMBER ; Soep, vleesbrood, gebroken boontjes, vleesjus, puree',\n",
       " 'DONDERDAG 23 NOVEMBER ; Soep, stoofvlees, rauwkost, frietjes',\n",
       " 'VRIJDAG 24 NOVEMBER ; Soep, tongscharrolletjes tandouri, jonge worteltjes, tomatensaus natuur, groentenrijst',\n",
       " 'MAANDAG 27 NOVEMBER ; Soep, hamrolletjes met witloof, puree',\n",
       " 'DINSDAG 28 NOVEMBER ; Soep, balletjes in tomatensaus, wortelschijfjes natuur, kroketten',\n",
       " 'WOENSDAG 29 NOVEMBER ; Soep, kippenreepjes, currysaus, ananas, rijst',\n",
       " 'DONDERDAG 30 NOVEMBER ; Soep, goulash, rauwkost, frietjes',\n",
       " 'VRIJDAG 1 DECEMBER ; Soep, pollackfilet, kreeftensaus, broccolimix, puree',\n",
       " 'MAANDAG 6 November ; Soep, kipfilet, braadjus, schorseneren inde room, minikriel aardappel',\n",
       " 'DINSDAG 7 NOVEMBER ; Soep, braadworst, vleesjus, gebroken boontjes, gebakken aardappelen',\n",
       " 'WOENSDAG 8 NOVEMBER ; Soep, lamsstoofpotje, broccoli natuur, puree natuur',\n",
       " 'DONDERDAG 9 NOVEMBER ; Soep, rundstong in tomatensaus, witloofstronk, frietjes',\n",
       " 'VRIJDAG 10 NOVEMBER ; Soep, zalmfilet, dillesaus, knolselderpuree',\n",
       " 'MAANDAG 13 NOVEMBER ; Soep, Preischotel met gehakt',\n",
       " 'DINSDAG 14 NOVEMBER ; Soep, Napolitaanse stoofschotel met kip,4-seizoensmegeling, pommes duchesses',\n",
       " 'WOENSDAG 15 NOVEMBER ; GESLOTEN',\n",
       " 'DONDERDAG 16 NOVEMBER ; Soep, vol au vent, rauwkost, frietjes',\n",
       " 'VRIJDAG 17 NOVEMBER ; Soep, heekfilet delight, witte vissaus, pompoen/puree',\n",
       " 'MAANDAG 20 NOVEMBER ; Soep, cordon blue kalkoen, prei in de room, vleesjus, minikriel aardappeltjes',\n",
       " 'DINSDAG 21 NOVEMBER ; Soep, macaroni met kaas en hesp',\n",
       " 'WOENSDAG 22 NOVEMBER ; Soep, vleesbrood, gebroken boontjes, vleesjus, puree',\n",
       " 'DONDERDAG 23 NOVEMBER ; Soep, stoofvlees, rauwkost, frietjes',\n",
       " 'VRIJDAG 24 NOVEMBER ; Soep, tongscharrolletjes tandouri, jonge worteltjes, tomatensaus natuur, groentenrijst',\n",
       " 'MAANDAG 27 NOVEMBER ; Soep, hamrolletjes met witloof, puree',\n",
       " 'DINSDAG 28 NOVEMBER ; Soep, balletjes in tomatensaus, wortelschijfjes natuur, kroketten',\n",
       " 'WOENSDAG 29 NOVEMBER ; Soep, kippenreepjes, currysaus, ananas, rijst',\n",
       " 'DONDERDAG 30 NOVEMBER ; Soep, goulash, rauwkost, frietjes',\n",
       " 'VRIJDAG 1 DECEMBER ; Soep, pollackfilet, kreeftensaus, broccolimix, puree',\n",
       " 'MAANDAG 6 November ; Soep, kipfilet, braadjus, schorseneren inde room, minikriel aardappel',\n",
       " 'DINSDAG 7 NOVEMBER ; Soep, braadworst, vleesjus, gebroken boontjes, gebakken aardappelen',\n",
       " 'WOENSDAG 8 NOVEMBER ; Soep, lamsstoofpotje, broccoli natuur, puree natuur',\n",
       " 'DONDERDAG 9 NOVEMBER ; Soep, rundstong in tomatensaus, witloofstronk, frietjes',\n",
       " 'VRIJDAG 10 NOVEMBER ; Soep, zalmfilet, dillesaus, knolselderpuree',\n",
       " 'MAANDAG 13 NOVEMBER ; Soep, Preischotel met gehakt',\n",
       " 'DINSDAG 14 NOVEMBER ; Soep, Napolitaanse stoofschotel met kip,4-seizoensmegeling, pommes duchesses',\n",
       " 'WOENSDAG 15 NOVEMBER ; GESLOTEN',\n",
       " 'DONDERDAG 16 NOVEMBER ; Soep, vol au vent, rauwkost, frietjes',\n",
       " 'VRIJDAG 17 NOVEMBER ; Soep, heekfilet delight, witte vissaus, pompoen/puree',\n",
       " 'MAANDAG 20 NOVEMBER ; Soep, cordon blue kalkoen, prei in de room, vleesjus, minikriel aardappeltjes',\n",
       " 'DINSDAG 21 NOVEMBER ; Soep, macaroni met kaas en hesp',\n",
       " 'WOENSDAG 22 NOVEMBER ; Soep, vleesbrood, gebroken boontjes, vleesjus, puree',\n",
       " 'DONDERDAG 23 NOVEMBER ; Soep, stoofvlees, rauwkost, frietjes',\n",
       " 'VRIJDAG 24 NOVEMBER ; Soep, tongscharrolletjes tandouri, jonge worteltjes, tomatensaus natuur, groentenrijst',\n",
       " 'MAANDAG 27 NOVEMBER ; Soep, hamrolletjes met witloof, puree',\n",
       " 'DINSDAG 28 NOVEMBER ; Soep, balletjes in tomatensaus, wortelschijfjes natuur, kroketten',\n",
       " 'WOENSDAG 29 NOVEMBER ; Soep, kippenreepjes, currysaus, ananas, rijst',\n",
       " 'DONDERDAG 30 NOVEMBER ; Soep, goulash, rauwkost, frietjes',\n",
       " 'VRIJDAG 1 DECEMBER ; Soep, pollackfilet, kreeftensaus, broccolimix, puree',\n",
       " 'MAANDAG 6 November ; Soep, kipfilet, braadjus, schorseneren inde room, minikriel aardappel',\n",
       " 'DINSDAG 7 NOVEMBER ; Soep, braadworst, vleesjus, gebroken boontjes, gebakken aardappelen',\n",
       " 'WOENSDAG 8 NOVEMBER ; Soep, lamsstoofpotje, broccoli natuur, puree natuur',\n",
       " 'DONDERDAG 9 NOVEMBER ; Soep, rundstong in tomatensaus, witloofstronk, frietjes',\n",
       " 'VRIJDAG 10 NOVEMBER ; Soep, zalmfilet, dillesaus, knolselderpuree',\n",
       " 'MAANDAG 13 NOVEMBER ; Soep, Preischotel met gehakt',\n",
       " 'DINSDAG 14 NOVEMBER ; Soep, Napolitaanse stoofschotel met kip,4-seizoensmegeling, pommes duchesses',\n",
       " 'WOENSDAG 15 NOVEMBER ; GESLOTEN',\n",
       " 'DONDERDAG 16 NOVEMBER ; Soep, vol au vent, rauwkost, frietjes',\n",
       " 'VRIJDAG 17 NOVEMBER ; Soep, heekfilet delight, witte vissaus, pompoen/puree',\n",
       " 'MAANDAG 20 NOVEMBER ; Soep, cordon blue kalkoen, prei in de room, vleesjus, minikriel aardappeltjes',\n",
       " 'DINSDAG 21 NOVEMBER ; Soep, macaroni met kaas en hesp',\n",
       " 'WOENSDAG 22 NOVEMBER ; Soep, vleesbrood, gebroken boontjes, vleesjus, puree',\n",
       " 'DONDERDAG 23 NOVEMBER ; Soep, stoofvlees, rauwkost, frietjes',\n",
       " 'VRIJDAG 24 NOVEMBER ; Soep, tongscharrolletjes tandouri, jonge worteltjes, tomatensaus natuur, groentenrijst',\n",
       " 'MAANDAG 27 NOVEMBER ; Soep, hamrolletjes met witloof, puree',\n",
       " 'DINSDAG 28 NOVEMBER ; Soep, balletjes in tomatensaus, wortelschijfjes natuur, kroketten',\n",
       " 'WOENSDAG 29 NOVEMBER ; Soep, kippenreepjes, currysaus, ananas, rijst',\n",
       " 'DONDERDAG 30 NOVEMBER ; Soep, goulash, rauwkost, frietjes',\n",
       " 'VRIJDAG 1 DECEMBER ; Soep, pollackfilet, kreeftensaus, broccolimix, puree']"
      ]
     },
     "execution_count": 34,
     "metadata": {},
     "output_type": "execute_result"
    }
   ],
   "source": [
    "import requests\n",
    "from bs4 import BeautifulSoup\n",
    "\n",
    "# Website: https://www.eeklo.be/maandmenu\n",
    "def haal_menu(online=True):\n",
    "    if online:        \n",
    "        resp = requests.get(\"https://www.eeklo.be/maandmenu\")\n",
    "        html_content = resp.content\n",
    "    else:\n",
    "        with open(\"menu.html\") as ins:\n",
    "            html_content = bytes(ins.read().replace(\"\\n\\s+\", \"\"), 'utf-8')\n",
    "\n",
    "    soup = BeautifulSoup(html_content, 'html.parser')\n",
    "\n",
    "    info_div = soup.find('div', class_='info')\n",
    "    ps = info_div.find_all('p')\n",
    "\n",
    "    # <div class=info>\n",
    "    # <p><strong>6 - 10 NOVEMBER</strong><br>MAANDAG 6 November<br>Soep, kipfilet, braadjus, schorseneren inde room, minikriel aardappel\n",
    "    # <br>DINSDAG....\n",
    "\n",
    "    stripped_items = [list(p.stripped_strings)[1:] for item in ps for p in ps]\n",
    "    menulijst = [week for weken in stripped_items for week in weken]\n",
    "    menulijst = [f\"{menulijst[i]} ; {menulijst[i+1]}\" for i in range(0, len(menulijst), 2)]\n",
    "\n",
    "    return menulijst\n",
    "\n",
    "haal_menu()"
   ]
  }
 ],
 "metadata": {
  "kernelspec": {
   "display_name": "venv",
   "language": "python",
   "name": "python3"
  },
  "language_info": {
   "codemirror_mode": {
    "name": "ipython",
    "version": 3
   },
   "file_extension": ".py",
   "mimetype": "text/x-python",
   "name": "python",
   "nbconvert_exporter": "python",
   "pygments_lexer": "ipython3",
   "version": "3.11.5"
  },
  "orig_nbformat": 4
 },
 "nbformat": 4,
 "nbformat_minor": 2
}
